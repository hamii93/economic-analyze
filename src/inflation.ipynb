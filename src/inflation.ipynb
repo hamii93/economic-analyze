{
 "cells": [
  {
   "cell_type": "code",
   "execution_count": 47,
   "id": "87a95890",
   "metadata": {},
   "outputs": [],
   "source": [
    "import pandas as pd\n",
    "import numpy as np\n",
    "import matplotlib.pyplot as plt\n",
    "import seaborn as sns\n",
    "from sklearn.linear_model import LinearRegression\n",
    "from sklearn.metrics import r2_score"
   ]
  },
  {
   "cell_type": "code",
   "execution_count": 4,
   "id": "743c8d38",
   "metadata": {},
   "outputs": [],
   "source": [
    "data = {\"year\":[2015,2016,2017,2018,2019,2020,2021,2022,2023],\n",
    "    \"inflation\":[11.9,8.0,9.6,31.2,41.2,36.5,40.5,39.5,49.5]\n",
    "}"
   ]
  },
  {
   "cell_type": "code",
   "execution_count": 9,
   "id": "54c73de6",
   "metadata": {},
   "outputs": [],
   "source": [
    "df = pd.DataFrame(data)\n"
   ]
  },
  {
   "cell_type": "code",
   "execution_count": 12,
   "id": "bc44dda4",
   "metadata": {},
   "outputs": [
    {
     "data": {
      "application/vnd.microsoft.datawrangler.viewer.v0+json": {
       "columns": [
        {
         "name": "index",
         "rawType": "int64",
         "type": "integer"
        },
        {
         "name": "year",
         "rawType": "int64",
         "type": "integer"
        },
        {
         "name": "inflation",
         "rawType": "float64",
         "type": "float"
        }
       ],
       "ref": "3db2b432-6afd-4ee8-9d21-56136411898f",
       "rows": [
        [
         "0",
         "2015",
         "11.9"
        ],
        [
         "1",
         "2016",
         "8.0"
        ],
        [
         "2",
         "2017",
         "9.6"
        ],
        [
         "3",
         "2018",
         "31.2"
        ],
        [
         "4",
         "2019",
         "41.2"
        ]
       ],
       "shape": {
        "columns": 2,
        "rows": 5
       }
      },
      "text/html": [
       "<div>\n",
       "<style scoped>\n",
       "    .dataframe tbody tr th:only-of-type {\n",
       "        vertical-align: middle;\n",
       "    }\n",
       "\n",
       "    .dataframe tbody tr th {\n",
       "        vertical-align: top;\n",
       "    }\n",
       "\n",
       "    .dataframe thead th {\n",
       "        text-align: right;\n",
       "    }\n",
       "</style>\n",
       "<table border=\"1\" class=\"dataframe\">\n",
       "  <thead>\n",
       "    <tr style=\"text-align: right;\">\n",
       "      <th></th>\n",
       "      <th>year</th>\n",
       "      <th>inflation</th>\n",
       "    </tr>\n",
       "  </thead>\n",
       "  <tbody>\n",
       "    <tr>\n",
       "      <th>0</th>\n",
       "      <td>2015</td>\n",
       "      <td>11.9</td>\n",
       "    </tr>\n",
       "    <tr>\n",
       "      <th>1</th>\n",
       "      <td>2016</td>\n",
       "      <td>8.0</td>\n",
       "    </tr>\n",
       "    <tr>\n",
       "      <th>2</th>\n",
       "      <td>2017</td>\n",
       "      <td>9.6</td>\n",
       "    </tr>\n",
       "    <tr>\n",
       "      <th>3</th>\n",
       "      <td>2018</td>\n",
       "      <td>31.2</td>\n",
       "    </tr>\n",
       "    <tr>\n",
       "      <th>4</th>\n",
       "      <td>2019</td>\n",
       "      <td>41.2</td>\n",
       "    </tr>\n",
       "  </tbody>\n",
       "</table>\n",
       "</div>"
      ],
      "text/plain": [
       "   year  inflation\n",
       "0  2015       11.9\n",
       "1  2016        8.0\n",
       "2  2017        9.6\n",
       "3  2018       31.2\n",
       "4  2019       41.2"
      ]
     },
     "execution_count": 12,
     "metadata": {},
     "output_type": "execute_result"
    }
   ],
   "source": [
    "df.head()"
   ]
  },
  {
   "cell_type": "code",
   "execution_count": 14,
   "id": "38397d28",
   "metadata": {},
   "outputs": [],
   "source": [
    "df.to_csv(\"inflation.csv\", index = False)"
   ]
  },
  {
   "cell_type": "code",
   "execution_count": 15,
   "id": "388b975b",
   "metadata": {},
   "outputs": [
    {
     "data": {
      "application/vnd.microsoft.datawrangler.viewer.v0+json": {
       "columns": [
        {
         "name": "index",
         "rawType": "int64",
         "type": "integer"
        },
        {
         "name": "year",
         "rawType": "int64",
         "type": "integer"
        },
        {
         "name": "inflation",
         "rawType": "float64",
         "type": "float"
        }
       ],
       "ref": "e9e3f0d0-4b8a-4c7c-85ab-0953bc6cb113",
       "rows": [
        [
         "0",
         "2015",
         "11.9"
        ],
        [
         "1",
         "2016",
         "8.0"
        ],
        [
         "2",
         "2017",
         "9.6"
        ],
        [
         "3",
         "2018",
         "31.2"
        ],
        [
         "4",
         "2019",
         "41.2"
        ],
        [
         "5",
         "2020",
         "36.5"
        ],
        [
         "6",
         "2021",
         "40.5"
        ],
        [
         "7",
         "2022",
         "39.5"
        ],
        [
         "8",
         "2023",
         "49.5"
        ]
       ],
       "shape": {
        "columns": 2,
        "rows": 9
       }
      },
      "text/html": [
       "<div>\n",
       "<style scoped>\n",
       "    .dataframe tbody tr th:only-of-type {\n",
       "        vertical-align: middle;\n",
       "    }\n",
       "\n",
       "    .dataframe tbody tr th {\n",
       "        vertical-align: top;\n",
       "    }\n",
       "\n",
       "    .dataframe thead th {\n",
       "        text-align: right;\n",
       "    }\n",
       "</style>\n",
       "<table border=\"1\" class=\"dataframe\">\n",
       "  <thead>\n",
       "    <tr style=\"text-align: right;\">\n",
       "      <th></th>\n",
       "      <th>year</th>\n",
       "      <th>inflation</th>\n",
       "    </tr>\n",
       "  </thead>\n",
       "  <tbody>\n",
       "    <tr>\n",
       "      <th>0</th>\n",
       "      <td>2015</td>\n",
       "      <td>11.9</td>\n",
       "    </tr>\n",
       "    <tr>\n",
       "      <th>1</th>\n",
       "      <td>2016</td>\n",
       "      <td>8.0</td>\n",
       "    </tr>\n",
       "    <tr>\n",
       "      <th>2</th>\n",
       "      <td>2017</td>\n",
       "      <td>9.6</td>\n",
       "    </tr>\n",
       "    <tr>\n",
       "      <th>3</th>\n",
       "      <td>2018</td>\n",
       "      <td>31.2</td>\n",
       "    </tr>\n",
       "    <tr>\n",
       "      <th>4</th>\n",
       "      <td>2019</td>\n",
       "      <td>41.2</td>\n",
       "    </tr>\n",
       "    <tr>\n",
       "      <th>5</th>\n",
       "      <td>2020</td>\n",
       "      <td>36.5</td>\n",
       "    </tr>\n",
       "    <tr>\n",
       "      <th>6</th>\n",
       "      <td>2021</td>\n",
       "      <td>40.5</td>\n",
       "    </tr>\n",
       "    <tr>\n",
       "      <th>7</th>\n",
       "      <td>2022</td>\n",
       "      <td>39.5</td>\n",
       "    </tr>\n",
       "    <tr>\n",
       "      <th>8</th>\n",
       "      <td>2023</td>\n",
       "      <td>49.5</td>\n",
       "    </tr>\n",
       "  </tbody>\n",
       "</table>\n",
       "</div>"
      ],
      "text/plain": [
       "   year  inflation\n",
       "0  2015       11.9\n",
       "1  2016        8.0\n",
       "2  2017        9.6\n",
       "3  2018       31.2\n",
       "4  2019       41.2\n",
       "5  2020       36.5\n",
       "6  2021       40.5\n",
       "7  2022       39.5\n",
       "8  2023       49.5"
      ]
     },
     "execution_count": 15,
     "metadata": {},
     "output_type": "execute_result"
    }
   ],
   "source": [
    "df = pd.read_csv(\"inflation.csv\")\n",
    "df"
   ]
  },
  {
   "cell_type": "code",
   "execution_count": 18,
   "id": "c35d04ea",
   "metadata": {},
   "outputs": [
    {
     "data": {
      "image/png": "[encoded data removed]",
      "text/plain": [
       "<Figure size 1000x600 with 1 Axes>"
      ]
     },
     "metadata": {},
     "output_type": "display_data"
    }
   ],
   "source": [
    "plt.figure(figsize=(10,6))\n",
    "plt.scatter(df[\"year\"], df[\"inflation\"], color = \"blue\", label = \"inflation_rate\")\n",
    "plt.plot(df[\"year\"], df[\"inflation\"], color = \"green\", linestyle = \"--\", label = \"trend\")\n",
    "plt.xlabel(\"year\")\n",
    "plt.ylabel(\"inflation\")\n",
    "plt.title(\"inflation rate yearly\")\n",
    "plt.legend()\n",
    "plt.grid(True)\n",
    "plt.show()"
   ]
  },
  {
   "cell_type": "code",
   "execution_count": 20,
   "id": "384b4706",
   "metadata": {},
   "outputs": [],
   "source": [
    "X = df[\"year\"].values.reshape(-1,1) # reshape to 2D array\n",
    "y = df[\"inflation\"].values.reshape(-1,1) # reshape to 2D array\n",
    "\n"
   ]
  },
  {
   "cell_type": "code",
   "execution_count": 21,
   "id": "a7a6744f",
   "metadata": {},
   "outputs": [
    {
     "name": "stdout",
     "output_type": "stream",
     "text": [
      "Intercept: [-10469.03333333]\n",
      "Coefficient: [5.2]\n"
     ]
    }
   ],
   "source": [
    "model = LinearRegression() # create a linear regression model\n",
    "model.fit(X, y) # train the model\n",
    "\n",
    "print(\"Intercept:\", model.intercept_) # print the intercept\n",
    "print(\"Coefficient:\", model.coef_[0])# print the coefficient"
   ]
  },
  {
   "cell_type": "code",
   "execution_count": 30,
   "id": "2256705e",
   "metadata": {},
   "outputs": [
    {
     "name": "stdout",
     "output_type": "stream",
     "text": [
      "Predicted inflation rate for year [[2024]] : [[55.76666667]]\n"
     ]
    }
   ],
   "source": [
    "year_to_predict = np.array([[2024]]) # year to predict\n",
    "predicted_inflation = model.predict(year_to_predict) # predict the inflation rate\n",
    "print(\"Predicted inflation rate for year\", year_to_predict, \":\", predicted_inflation)"
   ]
  },
  {
   "cell_type": "code",
   "execution_count": 32,
   "id": "8471fb2e",
   "metadata": {},
   "outputs": [
    {
     "name": "stdout",
     "output_type": "stream",
     "text": [
      "Predicted inflation rate for year [[2025]] : [[60.96666667]]\n"
     ]
    }
   ],
   "source": [
    "year_to_predict_2025 = np.array([[2025]]) # year to predict\n",
    "predicted_inflation = model.predict(year_to_predict_2025) # predict the inflation rate\n",
    "print(\"Predicted inflation rate for year\", year_to_predict_2025, \":\", predicted_inflation)"
   ]
  },
  {
   "cell_type": "code",
   "execution_count": 46,
   "id": "875f8d0a",
   "metadata": {},
   "outputs": [
    {
     "data": {
      "image/png": "[encoded data removed]",
      "text/plain": [
       "<Figure size 1000x600 with 1 Axes>"
      ]
     },
     "metadata": {},
     "output_type": "display_data"
    }
   ],
   "source": [
    "plt.figure(figsize=(10,6))\n",
    "plt.scatter(df[\"year\"], df[\"inflation\"], color = \"blue\", label = \"inflation_rate\")\n",
    "plt.plot(df[\"year\"], model.predict(X), color = \"green\", linestyle = \"--\", label = \"trend\")\n",
    "plt.scatter(2024, predicted_inflation, color = \"blue\", label = \"predicted_inflation\")\n",
    "plt.scatter(2025, predicted_inflation, color = \"red\", label = \"predicted_inflation_2025\")\n",
    "plt.xlabel(\"year\")\n",
    "plt.ylabel(\"inflation\")\n",
    "plt.title(\"inflation rate yearly\")\n",
    "plt.legend()\n",
    "plt.grid(True)\n",
    "plt.show()"
   ]
  },
  {
   "cell_type": "code",
   "execution_count": 48,
   "id": "00fd396d",
   "metadata": {},
   "outputs": [],
   "source": [
    "y_prdect = model.predict(X)"
   ]
  },
  {
   "cell_type": "code",
   "execution_count": 49,
   "id": "53a9dfc7",
   "metadata": {},
   "outputs": [
    {
     "name": "stdout",
     "output_type": "stream",
     "text": [
      "R2 score:  0.8205709199053348\n"
     ]
    }
   ],
   "source": [
    "r2 = r2_score(y, y_prdect)\n",
    "print(\"R2 score: \", r2)"
   ]
  },
  {
   "cell_type": "code",
   "execution_count": null,
   "id": "198536ac",
   "metadata": {},
   "outputs": [],
   "source": []
  }
 ],
 "metadata": {
  "kernelspec": {
   "display_name": "pyanalyze",
   "language": "python",
   "name": "python3"
  },
  "language_info": {
   "codemirror_mode": {
    "name": "ipython",
    "version": 3
   },
   "file_extension": ".py",
   "mimetype": "text/x-python",
   "name": "python",
   "nbconvert_exporter": "python",
   "pygments_lexer": "ipython3",
   "version": "3.13.5"
  }
 },
 "nbformat": 4,
 "nbformat_minor": 5
}
